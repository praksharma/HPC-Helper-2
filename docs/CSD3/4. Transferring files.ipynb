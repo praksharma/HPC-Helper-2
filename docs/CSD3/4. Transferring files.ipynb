{
 "cells": [
  {
   "cell_type": "markdown",
   "metadata": {},
   "source": [
    "# Transferring Files\n",
    "So I was trying to transfer files and folders just like a normal GUI file browser. One of the easiest solution is to use GNOME virtual file system (GVFS). They inbuilt in Nautilus and Dolfin file browsers. However, they use a very bare bone OpenSSH which doesn't support TOTP for some reason. I tried multiple thing but wasn't able to get them working. Same happened with FIleZilla which does not use OpenSSH, its SFTP support is based on PuTTY's psftp, also doesn't work. \n",
    "\n",
    "Although, CSD3 does [mention](https://docs.hpc.cam.ac.uk/hpc/user-guide/transfer.html) various tool to transfer files, but I wanted to use a GUI file browser. There are two solutions at this point. VS code's remote ssh or a port forwarded Jupyter lab. VS Code is much easier to setup for file transfer. It also uses the master session so we don't need to type the TOTP.\n",
    "\n",
    "Once we are connected to CSD3, we can drag and drop files and folders to and from the remote server to another VS code running on local machine."
   ]
  }
 ],
 "metadata": {
  "language_info": {
   "name": "python"
  }
 },
 "nbformat": 4,
 "nbformat_minor": 2
}
