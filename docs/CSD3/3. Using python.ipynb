{
 "cells": [
  {
   "cell_type": "markdown",
   "metadata": {},
   "source": [
    "# Using python\n",
    "\n",
    "```{note}\n",
    "None of the following information is true. The python env should works as long as the python version is compiled with x86-64 instruction set. However, some compute nodes still throws \"Illegal instruction\" error. I have to still uncover the reason behind it.\n",
    "```\n",
    "\n",
    "I never thought that using python on a HPC cluster might be a problem, and I will ever need to document it. CSD3 contains partitions with multiple CPUs brands. The Ampere GPU nodes runs of a AMD CPU and the login nodes run on Intel CPU. So, python compiled for a Intel CPUs will not work on AMD CPUs because of Intel-specific instructions (like AVX-512) don’t exist on AMD EPYC. So, if you created a virtual environment on the login node and tried to run it on the compute node, it will not work and give you the following error:\n",
    "\n",
    "```sh\n",
    "(.venv) [ir-shar8@gpu-q-8 ~]$ python\n",
    "Illegal instruction\n",
    "```\n",
    "\n",
    "However, Dr. Lisa made sure that AMD CPUs are fully compatible with Intel’s x86-64 instruction set. That is why when the virtual environment is created on the compute node, it will work on the login node. To check the CPU brand, you can use the following command:\n",
    "\n",
    "```sh\n",
    "cat /proc/cpuinfo | grep \"model name\"\n",
    "```\n",
    "\n",
    "## Using python compiled with AMD CPU\n",
    "CSD3 has bare-metal python, virtualenv, anaconda and miniconda installed as modules. But, all of them are very old and won't work with the NVIDIA driver 550 compiled against CUDA 12.4. Sure one can just download miniconda from internet, but if you lazy like me, just use the following module.\n",
    "\n",
    "```sh\n",
    "module load python/3.11.0-icl \n",
    "```\n",
    "This is only new python version which is compatible with the NVIDIA driver we have on ampere partitions. Remember to create a virtual environment on the compute node not on the login node. The compute nodes have internet access, so you can download the packages you need."
   ]
  },
  {
   "cell_type": "markdown",
   "metadata": {},
   "source": [
    "## Summary\n",
    "* Python compiled on AMD = Universally compatible.\n",
    "* Python compiled on Intel = Not always AMD-compatible (because of AVX-512).\n",
    "\n",
    "## Example\n",
    "Virtual environment running on the login node:\n",
    "```sh\n",
    "[ir-shar8@login-p-1 ~]$ source .venv/bin/activate\n",
    "(.venv) [ir-shar8@login-p-1 ~]$ python\n",
    "Python 3.11.11 (main, Dec 12 2024, 16:28:23) [GCC 8.5.0 20210514 (Red Hat 8.5.0-22)] on linux\n",
    "Type \"help\", \"copyright\", \"credits\" or \"license\" for more information.\n",
    ">>> import torch\n",
    ">>> torch.cuda.is_available()\n",
    "False\n",
    ">>> exit()\n",
    "```\n",
    "\n",
    "Virtual environment running on the compute node:\n",
    "```sh\n",
    "(.venv) [ir-shar8@gpu-q-17 ~]$ python\n",
    "Python 3.11.11 (main, Dec 12 2024, 16:28:23) [GCC 8.5.0 20210514 (Red Hat 8.5.0-22)] on linux\n",
    "Type \"help\", \"copyright\", \"credits\" or \"license\" for more information.\n",
    ">>> import torch\n",
    ">>> torch.cuda.get_device_name(0)\n",
    "'NVIDIA A100-SXM4-80GB'\n",
    ">>> \n",
    "```\n",
    "\n",
    "There is not \"illegal instruction\" error on either of the nodes."
   ]
  }
 ],
 "metadata": {
  "language_info": {
   "name": "python"
  }
 },
 "nbformat": 4,
 "nbformat_minor": 2
}
