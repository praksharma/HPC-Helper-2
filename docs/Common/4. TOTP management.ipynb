{
 "cells": [
  {
   "cell_type": "markdown",
   "metadata": {},
   "source": [
    "# TOTP/ MFA management\n",
    "So, I used Microsoft Authenticator for a long time and I had a lot of TOTP codes stored in it. There are several problems with Microsoft Authenticator. The backup system is janky and it might not work on new phone. Also, you can't access the backup file as it is secretly stored somewhere on Microsoft's server. They also don't provide a way to export the TOTP secrets, so you can clone them on other devices.\n",
    "\n",
    "So there are a few solutions. I am currently, using [KeepassXC](https://keepassxc.org/) on Windows/Linux/Mac and [Aegis](https://getaegis.app/) on Android. Both are open-source solution and lets you store your TOTP secrets in a file that you can backup and restore on any device. The good thing is I don't need to touch my phone.\n",
    "\n",
    "![KeepassXC](images/keepassxc.png)"
   ]
  }
 ],
 "metadata": {
  "language_info": {
   "name": "python"
  }
 },
 "nbformat": 4,
 "nbformat_minor": 2
}
