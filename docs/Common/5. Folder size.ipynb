{
 "cells": [
  {
   "cell_type": "markdown",
   "metadata": {},
   "source": [
    "# Folder size\n",
    "The `ls` command doesn't show the size of a folder. To get the size of a folder, you can use the `du` command. The `-sh` option provides a human-readable summary of the folder size.\n",
    "\n",
    "```bash\n",
    "du -sh /path/to/folder\n",
    "```\n",
    "\n",
    "Obviously we are not gonna remember the command, so we can create an alias for it. Add the following line to your `~/.bashrc` or `~/.zshrc` file:\n",
    "\n",
    "```bash\n",
    "alias lsdir='du -sh *'\n",
    "```\n",
    "\n",
    "Then, run `source ~/.bashrc` or `source ~/.zshrc` to apply the changes."
   ]
  },
  {
   "cell_type": "markdown",
   "metadata": {},
   "source": [
    "Now we use `lsdir` to get the size of all folders in the current directory.\n",
    "\n",
    "```bash\n",
    "(base) [ir-shar8@login-p-3 pip]$ lsdir                                                                                                                                    \n",
    "4.1G    http                                                                                                                                                              \n",
    "5.1G    http-v2                                                                                                                                                           \n",
    "168K    selfcheck                                                                                                                                                         \n",
    "32K     selfcheck.json                                                                                                                                                    \n",
    "488K    wheels                                                                                                                                   \n",
    "```"
   ]
  }
 ],
 "metadata": {
  "language_info": {
   "name": "python"
  }
 },
 "nbformat": 4,
 "nbformat_minor": 2
}
