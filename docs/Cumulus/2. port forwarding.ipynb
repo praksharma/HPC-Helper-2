{
 "cells": [
  {
   "cell_type": "markdown",
   "metadata": {},
   "source": [
    "# SSH access restriction on compute nodes\n",
    "Cumulus has restricted SSH access to compute nodes. If you go to any compute node by running an interactive job, say `vis002`, you can see the output of the `/etc/security/access.conf`:\n",
    "```bash\n",
    "(base) [zw5893@vis002 ~]$ grep -v '^#' /etc/security/access.conf\n",
    "+:root:ALL\n",
    "+:(cumulus_admin):ALL\n",
    "+:(cumulus_admin-memb):ALL\n",
    "-:ALL:ALL\n",
    "```\n",
    "\n",
    "It means only `cumulus_admin` and `cumulus_admin-memb` can use SSH, and `-:ALL:ALL` blocks the remaining users.\n",
    "\n",
    "So, if you try to login to `vis002` from a new terminal window, you will get the following error:\n",
    "```bash\n",
    "(base) [zw5893@login1 ~]$ squeue -u $USER\n",
    "             JOBID PARTITION     NAME     USER ST       TIME  NODES NODELIST(REASON)\n",
    "            159721     visio     bash   zw5893  R      23:53      1 vis002\n",
    "\n",
    "(base) [zw5893@login1 ~]$ ssh vis002\n",
    "Connection closed by 172.23.0.88 port 22\n",
    "```\n",
    "\n",
    "Since SSH is restricted, this also prevents port forwarding of services like Jupyter, WandB, VS Code server etc. from the compute node to a personal PC."
   ]
  }
 ],
 "metadata": {
  "language_info": {
   "name": "python"
  }
 },
 "nbformat": 4,
 "nbformat_minor": 2
}
