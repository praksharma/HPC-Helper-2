{
 "cells": [
  {
   "cell_type": "markdown",
   "metadata": {},
   "source": [
    "# Basic information and job submission\n",
    "All the commands are pretty standard such as `module avail`, `module load`, `module purge`, `srun`, `sbatch`, `sinfo`, `squeue`, `sacct`, `scancel` etc. And tmux is already in the path for neckbeards. Cumulus consists of 3 partitions.\n",
    "* CPU\n",
    "* GPU: Each node has 3 NVIDIA A100 40GB\n",
    "* Visio: Each node has 3 NVIDIA A40 48GB\n",
    "\n",
    "Currently, there is no timelimit, no QOS, no separate `scratch` or `work` partition even no user disk usage quota.\n",
    "\n",
    "One more thing the compute nodes are not connected to the internet. So things like `wandb` won't work."
   ]
  },
  {
   "cell_type": "markdown",
   "metadata": {},
   "source": [
    "## Python\n",
    "Over the years I have learnt that the easiest way to run a python environment without messing with `$PATH` or modules is to use miniconda. Click [here](https://docs.anaconda.com/miniconda/install/) to see how to install miniconda on Linux.\n",
    "\n",
    "[This](https://docs.conda.io/projects/conda/en/latest/user-guide/tasks/manage-environments.html) is the bible of setting up a conda environment.\n",
    "\n",
    "Here are some basic commands.\n",
    "\n",
    "* Create a new environment\n",
    "```bash\n",
    "conda create --name myenv python=3.12\n",
    "```\n",
    "Not specifying the python version will not install python at all. LOL.\n",
    "\n",
    "* Check list of environments\n",
    "```bash\n",
    "conda env list\n",
    "```\n",
    "* Activate the environment\n",
    "```bash\n",
    "conda activate myenv\n",
    "```\n",
    "\n",
    "* Deactivate the environment\n",
    "```bash\n",
    "conda deactivate\n",
    "```"
   ]
  },
  {
   "cell_type": "markdown",
   "metadata": {},
   "source": [
    "## Installing pytorch\n",
    "Installing PyTorch is little bit tricky on Cumulus. PyTorch binaries are compiled against a specific version of CUDA. Currently, Cumulus has two versions of NVIDIA driver compiled against CUDA: 12.0 and 12.2.\n",
    "\n",
    "Generally, one should install PyTorch compiled with older versions of CUDA, if the exact versions is not available on PyTorch's website. So, in my case I [downloaded](https://pytorch.org/get-started/previous-versions/#linux-and-windows) PyTorch 2.5.1 compiled with CUDA 12.1. \n",
    "\n",
    "\n",
    "\n",
    "```{warning}\n",
    "On Nov 18 2024, PyTorch [stopped publishing](https://dev-discuss.pytorch.org/t/pytorch-deprecation-of-conda-nightly-builds/2590) Anaconda packages.\n",
    "```\n"
   ]
  },
  {
   "cell_type": "markdown",
   "metadata": {},
   "source": [
    "## Interactive job\n",
    "This is pretty standard. We don't need to specify any QOS, timelimit, account etc. Just the partition and number of GPUs.\n",
    "\n",
    "```bash\n",
    "srun -n 1 --gpus=1 -p visio --pty /bin/bash -i\n",
    "```\n",
    "## Job submission\n",
    "\n",
    "TBD"
   ]
  }
 ],
 "metadata": {
  "language_info": {
   "name": "python"
  }
 },
 "nbformat": 4,
 "nbformat_minor": 2
}
