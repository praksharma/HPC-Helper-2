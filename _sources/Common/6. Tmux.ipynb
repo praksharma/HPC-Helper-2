{
 "cells": [
  {
   "cell_type": "markdown",
   "metadata": {},
   "source": [
    "# Tmux\n",
    "Tmux is a terminal multiplexer that allows you to manage multiple terminal sessions from a single window. It is especially useful for remote work, as it allows you to keep sessions alive even if your connection drops.\n",
    "\n",
    "I always use a minimal Tmux sessions which aligns with my muscle memory from using Kitty terminal."
   ]
  },
  {
   "cell_type": "markdown",
   "metadata": {},
   "source": [
    "Here is my minimal Tmux configuration:\n",
    "\n",
    "```bash\n",
    "(base) [ir-shar8@login-p-3 ir-shar8]$ cat ~/.tmux.conf\n",
    "# Unbind the default prefix\n",
    "unbind C-b\n",
    "\n",
    "# Bind Ctrl+W to create a new window\n",
    "bind -n C-w new-window\n",
    "\n",
    "# Navigate with Ctrl+Left and Ctrl+Right\n",
    "bind -n C-Left previous-window\n",
    "bind -n C-Right next-window\n",
    "# Enable Mouse scrolling\n",
    "set -g mouse on\n",
    "```"
   ]
  },
  {
   "cell_type": "markdown",
   "metadata": {},
   "source": [
    "Here, I am using Ctrl+W to create a new window, my Kitty terminal shortcut is Ctrl+T, so I had to choose something else. We can switch to the next and previous windows using Ctrl+Left and Ctrl+Right. I also enabled mouse scrolling for convenience.\n",
    "\n",
    "## Tmux select text\n",
    "Tmux uses vim like keybindings for selecting text and I don't like it. Instead we can use the mouse to select text. Normal mouse selection doesn't work, instead we can hold `SHIFT` key to bypass tmux and give raw mouse control to terminal. To unselect text, just press `SHIFT` key again and click anywhere in the tmux.\n",
    "\n",
    "![Tmux select text](images/tmux.png)"
   ]
  }
 ],
 "metadata": {
  "language_info": {
   "name": "python"
  }
 },
 "nbformat": 4,
 "nbformat_minor": 2
}
