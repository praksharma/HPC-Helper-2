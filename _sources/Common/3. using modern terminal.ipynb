{
 "cells": [
  {
   "cell_type": "markdown",
   "metadata": {},
   "source": [
    "# Using Modern terminal\n",
    "Some HPC clusters have simpler terminal type such as `xterm` or `vt100`.  If you are using modern terminals such as kitty or alacritty, you will notice some issues with the terminal, for example, the backspace key will not work as expected.\n",
    "\n",
    "We need to export the `TERM` variable to `xterm-256color` to fix this issue.\n",
    "```sh\n",
    "export TERM=xterm-256color\n",
    "```\n",
    "or to make changes permanent, add the above line to your `.bashrc` file.\n",
    "\n",
    "```sh\n",
    "echo 'export TERM=xterm-256color' >> ~/.bashrc\n",
    "source ~/.bashrc\n",
    "```\n"
   ]
  }
 ],
 "metadata": {
  "language_info": {
   "name": "python"
  }
 },
 "nbformat": 4,
 "nbformat_minor": 2
}
